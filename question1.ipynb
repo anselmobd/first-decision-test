{
 "cells": [
  {
   "cell_type": "markdown",
   "id": "67b56a2b-d6d3-4323-80f5-7b3e81617ba8",
   "metadata": {},
   "source": [
    "#### 1 Realize leitura do arquivo CSV disponível em: https://raw.githubusercontent.com/datasets/finance-vix/main/data/vix-daily.csv e atribua a um dataframe."
   ]
  },
  {
   "cell_type": "code",
   "execution_count": 1,
   "id": "fb1b4c58-8bfd-4205-93ac-9c03876b457d",
   "metadata": {},
   "outputs": [],
   "source": [
    "import csv\n",
    "import datetime\n",
    "import numpy as np\n",
    "import pandas as pd\n",
    "import seaborn as sns\n",
    "import matplotlib.pyplot as plt\n",
    "import matplotlib.ticker as ticker"
   ]
  },
  {
   "cell_type": "code",
   "execution_count": 2,
   "id": "723a927b-c2c7-4b2f-96f1-b43326f4964a",
   "metadata": {},
   "outputs": [],
   "source": [
    "df = pd.read_csv(\"https://raw.githubusercontent.com/datasets/finance-vix/main/data/vix-daily.csv\")"
   ]
  },
  {
   "cell_type": "markdown",
   "id": "c6299664-e632-4ebd-93ab-83bca8cd8a35",
   "metadata": {},
   "source": [
    "#### 1.1 Liste as 6 primeiras linhas."
   ]
  },
  {
   "cell_type": "code",
   "execution_count": 3,
   "id": "46b1632b-a391-4f2a-a2fb-e1ea6719ba1a",
   "metadata": {},
   "outputs": [
    {
     "data": {
      "text/html": [
       "<div>\n",
       "<style scoped>\n",
       "    .dataframe tbody tr th:only-of-type {\n",
       "        vertical-align: middle;\n",
       "    }\n",
       "\n",
       "    .dataframe tbody tr th {\n",
       "        vertical-align: top;\n",
       "    }\n",
       "\n",
       "    .dataframe thead th {\n",
       "        text-align: right;\n",
       "    }\n",
       "</style>\n",
       "<table border=\"1\" class=\"dataframe\">\n",
       "  <thead>\n",
       "    <tr style=\"text-align: right;\">\n",
       "      <th></th>\n",
       "      <th>DATE</th>\n",
       "      <th>OPEN</th>\n",
       "      <th>HIGH</th>\n",
       "      <th>LOW</th>\n",
       "      <th>CLOSE</th>\n",
       "    </tr>\n",
       "  </thead>\n",
       "  <tbody>\n",
       "    <tr>\n",
       "      <th>0</th>\n",
       "      <td>01/02/1990</td>\n",
       "      <td>17.24</td>\n",
       "      <td>17.24</td>\n",
       "      <td>17.24</td>\n",
       "      <td>17.24</td>\n",
       "    </tr>\n",
       "    <tr>\n",
       "      <th>1</th>\n",
       "      <td>01/03/1990</td>\n",
       "      <td>18.19</td>\n",
       "      <td>18.19</td>\n",
       "      <td>18.19</td>\n",
       "      <td>18.19</td>\n",
       "    </tr>\n",
       "    <tr>\n",
       "      <th>2</th>\n",
       "      <td>01/04/1990</td>\n",
       "      <td>19.22</td>\n",
       "      <td>19.22</td>\n",
       "      <td>19.22</td>\n",
       "      <td>19.22</td>\n",
       "    </tr>\n",
       "    <tr>\n",
       "      <th>3</th>\n",
       "      <td>01/05/1990</td>\n",
       "      <td>20.11</td>\n",
       "      <td>20.11</td>\n",
       "      <td>20.11</td>\n",
       "      <td>20.11</td>\n",
       "    </tr>\n",
       "    <tr>\n",
       "      <th>4</th>\n",
       "      <td>01/08/1990</td>\n",
       "      <td>20.26</td>\n",
       "      <td>20.26</td>\n",
       "      <td>20.26</td>\n",
       "      <td>20.26</td>\n",
       "    </tr>\n",
       "    <tr>\n",
       "      <th>5</th>\n",
       "      <td>01/09/1990</td>\n",
       "      <td>22.20</td>\n",
       "      <td>22.20</td>\n",
       "      <td>22.20</td>\n",
       "      <td>22.20</td>\n",
       "    </tr>\n",
       "  </tbody>\n",
       "</table>\n",
       "</div>"
      ],
      "text/plain": [
       "         DATE   OPEN   HIGH    LOW  CLOSE\n",
       "0  01/02/1990  17.24  17.24  17.24  17.24\n",
       "1  01/03/1990  18.19  18.19  18.19  18.19\n",
       "2  01/04/1990  19.22  19.22  19.22  19.22\n",
       "3  01/05/1990  20.11  20.11  20.11  20.11\n",
       "4  01/08/1990  20.26  20.26  20.26  20.26\n",
       "5  01/09/1990  22.20  22.20  22.20  22.20"
      ]
     },
     "execution_count": 3,
     "metadata": {},
     "output_type": "execute_result"
    }
   ],
   "source": [
    "df.head(6)"
   ]
  },
  {
   "cell_type": "markdown",
   "id": "f537f308-27ec-4573-b71d-2f1349a046ab",
   "metadata": {},
   "source": [
    "#### 1.2 Liste informações básicas sobre o dataset."
   ]
  },
  {
   "cell_type": "code",
   "execution_count": 4,
   "id": "d7edd8d5-8dff-4cf3-a8f7-c815ee3c4fa9",
   "metadata": {},
   "outputs": [
    {
     "name": "stdout",
     "output_type": "stream",
     "text": [
      "Informações gerais\n",
      "<class 'pandas.core.frame.DataFrame'>\n",
      "RangeIndex: 8850 entries, 0 to 8849\n",
      "Data columns (total 5 columns):\n",
      " #   Column  Non-Null Count  Dtype  \n",
      "---  ------  --------------  -----  \n",
      " 0   DATE    8850 non-null   object \n",
      " 1   OPEN    8850 non-null   float64\n",
      " 2   HIGH    8850 non-null   float64\n",
      " 3   LOW     8850 non-null   float64\n",
      " 4   CLOSE   8850 non-null   float64\n",
      "dtypes: float64(4), object(1)\n",
      "memory usage: 345.8+ KB\n",
      "None\n",
      "\n",
      "Contagem de valores vazios\n",
      "DATE     0\n",
      "OPEN     0\n",
      "HIGH     0\n",
      "LOW      0\n",
      "CLOSE    0\n",
      "dtype: int64\n"
     ]
    }
   ],
   "source": [
    "print(\"Informações gerais\")\n",
    "print(df.info())\n",
    "\n",
    "print(\"\\nContagem de valores vazios\")\n",
    "print(df.isnull().sum())"
   ]
  },
  {
   "cell_type": "markdown",
   "id": "431bb25e-fa4e-43dd-9a07-ed3d0ddeff8c",
   "metadata": {},
   "source": [
    "#### 1.3 Liste as estatísticas básicas do dataframe."
   ]
  },
  {
   "cell_type": "code",
   "execution_count": 5,
   "id": "b5a81ce2-f67f-48eb-a16a-0f2f58e2a0bb",
   "metadata": {},
   "outputs": [
    {
     "data": {
      "text/html": [
       "<div>\n",
       "<style scoped>\n",
       "    .dataframe tbody tr th:only-of-type {\n",
       "        vertical-align: middle;\n",
       "    }\n",
       "\n",
       "    .dataframe tbody tr th {\n",
       "        vertical-align: top;\n",
       "    }\n",
       "\n",
       "    .dataframe thead th {\n",
       "        text-align: right;\n",
       "    }\n",
       "</style>\n",
       "<table border=\"1\" class=\"dataframe\">\n",
       "  <thead>\n",
       "    <tr style=\"text-align: right;\">\n",
       "      <th></th>\n",
       "      <th>OPEN</th>\n",
       "      <th>HIGH</th>\n",
       "      <th>LOW</th>\n",
       "      <th>CLOSE</th>\n",
       "    </tr>\n",
       "  </thead>\n",
       "  <tbody>\n",
       "    <tr>\n",
       "      <th>count</th>\n",
       "      <td>8850.000000</td>\n",
       "      <td>8850.000000</td>\n",
       "      <td>8850.000000</td>\n",
       "      <td>8850.000000</td>\n",
       "    </tr>\n",
       "    <tr>\n",
       "      <th>mean</th>\n",
       "      <td>19.549688</td>\n",
       "      <td>20.369250</td>\n",
       "      <td>18.784960</td>\n",
       "      <td>19.458788</td>\n",
       "    </tr>\n",
       "    <tr>\n",
       "      <th>std</th>\n",
       "      <td>7.908954</td>\n",
       "      <td>8.378376</td>\n",
       "      <td>7.375146</td>\n",
       "      <td>7.834583</td>\n",
       "    </tr>\n",
       "    <tr>\n",
       "      <th>min</th>\n",
       "      <td>2.580000</td>\n",
       "      <td>9.310000</td>\n",
       "      <td>8.560000</td>\n",
       "      <td>9.140000</td>\n",
       "    </tr>\n",
       "    <tr>\n",
       "      <th>25%</th>\n",
       "      <td>13.910000</td>\n",
       "      <td>14.490000</td>\n",
       "      <td>13.390000</td>\n",
       "      <td>13.830000</td>\n",
       "    </tr>\n",
       "    <tr>\n",
       "      <th>50%</th>\n",
       "      <td>17.655000</td>\n",
       "      <td>18.320000</td>\n",
       "      <td>17.005000</td>\n",
       "      <td>17.610000</td>\n",
       "    </tr>\n",
       "    <tr>\n",
       "      <th>75%</th>\n",
       "      <td>22.957500</td>\n",
       "      <td>23.810000</td>\n",
       "      <td>22.130000</td>\n",
       "      <td>22.810000</td>\n",
       "    </tr>\n",
       "    <tr>\n",
       "      <th>max</th>\n",
       "      <td>82.690000</td>\n",
       "      <td>89.530000</td>\n",
       "      <td>72.760000</td>\n",
       "      <td>82.690000</td>\n",
       "    </tr>\n",
       "  </tbody>\n",
       "</table>\n",
       "</div>"
      ],
      "text/plain": [
       "              OPEN         HIGH          LOW        CLOSE\n",
       "count  8850.000000  8850.000000  8850.000000  8850.000000\n",
       "mean     19.549688    20.369250    18.784960    19.458788\n",
       "std       7.908954     8.378376     7.375146     7.834583\n",
       "min       2.580000     9.310000     8.560000     9.140000\n",
       "25%      13.910000    14.490000    13.390000    13.830000\n",
       "50%      17.655000    18.320000    17.005000    17.610000\n",
       "75%      22.957500    23.810000    22.130000    22.810000\n",
       "max      82.690000    89.530000    72.760000    82.690000"
      ]
     },
     "execution_count": 5,
     "metadata": {},
     "output_type": "execute_result"
    }
   ],
   "source": [
    "df.describe()"
   ]
  },
  {
   "cell_type": "markdown",
   "id": "c56ecca1-f5c6-460e-b2bd-d308d62b33d7",
   "metadata": {},
   "source": [
    "#### 1.4 Remova linhas com valores ausentes."
   ]
  },
  {
   "cell_type": "code",
   "execution_count": 6,
   "id": "900db5ef-c3a8-43b4-9c85-c059bd039f68",
   "metadata": {},
   "outputs": [
    {
     "name": "stdout",
     "output_type": "stream",
     "text": [
      "DATE     0\n",
      "OPEN     0\n",
      "HIGH     0\n",
      "LOW      0\n",
      "CLOSE    0\n",
      "dtype: int64\n"
     ]
    }
   ],
   "source": [
    "# Eu tinha verificado que não havia nenhum valor vazio no dataset, mas o comando para limpar poderia ser o seguinte:\n",
    "df.dropna(inplace=True)\n",
    "print(df.isnull().sum())"
   ]
  },
  {
   "cell_type": "markdown",
   "id": "557adf1c-ae41-42e2-bab2-be9564a91cb5",
   "metadata": {},
   "source": [
    "#### 1.5 Converta o tipo da data para datetime."
   ]
  },
  {
   "cell_type": "code",
   "execution_count": 7,
   "id": "2e33b148-4233-4271-aea8-34fdab426925",
   "metadata": {},
   "outputs": [
    {
     "data": {
      "text/html": [
       "<div>\n",
       "<style scoped>\n",
       "    .dataframe tbody tr th:only-of-type {\n",
       "        vertical-align: middle;\n",
       "    }\n",
       "\n",
       "    .dataframe tbody tr th {\n",
       "        vertical-align: top;\n",
       "    }\n",
       "\n",
       "    .dataframe thead th {\n",
       "        text-align: right;\n",
       "    }\n",
       "</style>\n",
       "<table border=\"1\" class=\"dataframe\">\n",
       "  <thead>\n",
       "    <tr style=\"text-align: right;\">\n",
       "      <th></th>\n",
       "      <th>DATE</th>\n",
       "      <th>OPEN</th>\n",
       "      <th>HIGH</th>\n",
       "      <th>LOW</th>\n",
       "      <th>CLOSE</th>\n",
       "    </tr>\n",
       "  </thead>\n",
       "  <tbody>\n",
       "    <tr>\n",
       "      <th>0</th>\n",
       "      <td>1990-01-02</td>\n",
       "      <td>17.24</td>\n",
       "      <td>17.24</td>\n",
       "      <td>17.24</td>\n",
       "      <td>17.24</td>\n",
       "    </tr>\n",
       "    <tr>\n",
       "      <th>1</th>\n",
       "      <td>1990-01-03</td>\n",
       "      <td>18.19</td>\n",
       "      <td>18.19</td>\n",
       "      <td>18.19</td>\n",
       "      <td>18.19</td>\n",
       "    </tr>\n",
       "    <tr>\n",
       "      <th>2</th>\n",
       "      <td>1990-01-04</td>\n",
       "      <td>19.22</td>\n",
       "      <td>19.22</td>\n",
       "      <td>19.22</td>\n",
       "      <td>19.22</td>\n",
       "    </tr>\n",
       "    <tr>\n",
       "      <th>3</th>\n",
       "      <td>1990-01-05</td>\n",
       "      <td>20.11</td>\n",
       "      <td>20.11</td>\n",
       "      <td>20.11</td>\n",
       "      <td>20.11</td>\n",
       "    </tr>\n",
       "    <tr>\n",
       "      <th>4</th>\n",
       "      <td>1990-01-08</td>\n",
       "      <td>20.26</td>\n",
       "      <td>20.26</td>\n",
       "      <td>20.26</td>\n",
       "      <td>20.26</td>\n",
       "    </tr>\n",
       "  </tbody>\n",
       "</table>\n",
       "</div>"
      ],
      "text/plain": [
       "        DATE   OPEN   HIGH    LOW  CLOSE\n",
       "0 1990-01-02  17.24  17.24  17.24  17.24\n",
       "1 1990-01-03  18.19  18.19  18.19  18.19\n",
       "2 1990-01-04  19.22  19.22  19.22  19.22\n",
       "3 1990-01-05  20.11  20.11  20.11  20.11\n",
       "4 1990-01-08  20.26  20.26  20.26  20.26"
      ]
     },
     "execution_count": 7,
     "metadata": {},
     "output_type": "execute_result"
    }
   ],
   "source": [
    "df['DATE'] = pd.to_datetime(df['DATE'])\n",
    "df.head()"
   ]
  },
  {
   "cell_type": "markdown",
   "id": "3f5c7eb3-51fb-477a-b01c-42747a4b9f1d",
   "metadata": {},
   "source": [
    "#### 1.6 Crie uma coluna ‘Volatility Range’ que é derivada das colunas 'HIGH’ menos ‘LOW’."
   ]
  },
  {
   "cell_type": "code",
   "execution_count": 8,
   "id": "32226bb7-bed0-4ae7-8943-1aa45afd4e8b",
   "metadata": {},
   "outputs": [
    {
     "data": {
      "text/html": [
       "<div>\n",
       "<style scoped>\n",
       "    .dataframe tbody tr th:only-of-type {\n",
       "        vertical-align: middle;\n",
       "    }\n",
       "\n",
       "    .dataframe tbody tr th {\n",
       "        vertical-align: top;\n",
       "    }\n",
       "\n",
       "    .dataframe thead th {\n",
       "        text-align: right;\n",
       "    }\n",
       "</style>\n",
       "<table border=\"1\" class=\"dataframe\">\n",
       "  <thead>\n",
       "    <tr style=\"text-align: right;\">\n",
       "      <th></th>\n",
       "      <th>DATE</th>\n",
       "      <th>OPEN</th>\n",
       "      <th>HIGH</th>\n",
       "      <th>LOW</th>\n",
       "      <th>CLOSE</th>\n",
       "      <th>VOLATILITY_RANGE</th>\n",
       "    </tr>\n",
       "  </thead>\n",
       "  <tbody>\n",
       "    <tr>\n",
       "      <th>505</th>\n",
       "      <td>1992-01-02</td>\n",
       "      <td>19.69</td>\n",
       "      <td>20.15</td>\n",
       "      <td>18.88</td>\n",
       "      <td>18.95</td>\n",
       "      <td>1.27</td>\n",
       "    </tr>\n",
       "    <tr>\n",
       "      <th>506</th>\n",
       "      <td>1992-01-03</td>\n",
       "      <td>17.04</td>\n",
       "      <td>19.23</td>\n",
       "      <td>17.04</td>\n",
       "      <td>18.75</td>\n",
       "      <td>2.19</td>\n",
       "    </tr>\n",
       "    <tr>\n",
       "      <th>507</th>\n",
       "      <td>1992-01-06</td>\n",
       "      <td>16.23</td>\n",
       "      <td>19.49</td>\n",
       "      <td>16.08</td>\n",
       "      <td>18.96</td>\n",
       "      <td>3.41</td>\n",
       "    </tr>\n",
       "    <tr>\n",
       "      <th>508</th>\n",
       "      <td>1992-01-07</td>\n",
       "      <td>20.30</td>\n",
       "      <td>20.30</td>\n",
       "      <td>19.12</td>\n",
       "      <td>19.23</td>\n",
       "      <td>1.18</td>\n",
       "    </tr>\n",
       "    <tr>\n",
       "      <th>509</th>\n",
       "      <td>1992-01-08</td>\n",
       "      <td>17.53</td>\n",
       "      <td>19.27</td>\n",
       "      <td>17.30</td>\n",
       "      <td>18.72</td>\n",
       "      <td>1.97</td>\n",
       "    </tr>\n",
       "  </tbody>\n",
       "</table>\n",
       "</div>"
      ],
      "text/plain": [
       "          DATE   OPEN   HIGH    LOW  CLOSE  VOLATILITY_RANGE\n",
       "505 1992-01-02  19.69  20.15  18.88  18.95              1.27\n",
       "506 1992-01-03  17.04  19.23  17.04  18.75              2.19\n",
       "507 1992-01-06  16.23  19.49  16.08  18.96              3.41\n",
       "508 1992-01-07  20.30  20.30  19.12  19.23              1.18\n",
       "509 1992-01-08  17.53  19.27  17.30  18.72              1.97"
      ]
     },
     "execution_count": 8,
     "metadata": {},
     "output_type": "execute_result"
    }
   ],
   "source": [
    "df['VOLATILITY_RANGE'] = df['HIGH'] - df['LOW']\n",
    "df[df['VOLATILITY_RANGE'] != 0].head()"
   ]
  },
  {
   "cell_type": "markdown",
   "id": "28f2a821-64ce-49d3-8d26-33805c74d03a",
   "metadata": {},
   "source": [
    "#### 1.7 Crie um novo dataframe contendo a média da coluna ‘CLOSE’ agrupada e ordenada por YEAR_MONTH"
   ]
  },
  {
   "cell_type": "code",
   "execution_count": 9,
   "id": "eeb9a7b4-1e20-4bf2-8cc3-50e44b81ce30",
   "metadata": {},
   "outputs": [
    {
     "data": {
      "text/html": [
       "<div>\n",
       "<style scoped>\n",
       "    .dataframe tbody tr th:only-of-type {\n",
       "        vertical-align: middle;\n",
       "    }\n",
       "\n",
       "    .dataframe tbody tr th {\n",
       "        vertical-align: top;\n",
       "    }\n",
       "\n",
       "    .dataframe thead th {\n",
       "        text-align: right;\n",
       "    }\n",
       "</style>\n",
       "<table border=\"1\" class=\"dataframe\">\n",
       "  <thead>\n",
       "    <tr style=\"text-align: right;\">\n",
       "      <th></th>\n",
       "      <th>DATE</th>\n",
       "      <th>OPEN</th>\n",
       "      <th>HIGH</th>\n",
       "      <th>LOW</th>\n",
       "      <th>CLOSE</th>\n",
       "      <th>VOLATILITY_RANGE</th>\n",
       "      <th>YEAR_MONTH</th>\n",
       "    </tr>\n",
       "  </thead>\n",
       "  <tbody>\n",
       "    <tr>\n",
       "      <th>0</th>\n",
       "      <td>1990-01-02</td>\n",
       "      <td>17.24</td>\n",
       "      <td>17.24</td>\n",
       "      <td>17.24</td>\n",
       "      <td>17.24</td>\n",
       "      <td>0.0</td>\n",
       "      <td>1990-01</td>\n",
       "    </tr>\n",
       "    <tr>\n",
       "      <th>1</th>\n",
       "      <td>1990-01-03</td>\n",
       "      <td>18.19</td>\n",
       "      <td>18.19</td>\n",
       "      <td>18.19</td>\n",
       "      <td>18.19</td>\n",
       "      <td>0.0</td>\n",
       "      <td>1990-01</td>\n",
       "    </tr>\n",
       "    <tr>\n",
       "      <th>2</th>\n",
       "      <td>1990-01-04</td>\n",
       "      <td>19.22</td>\n",
       "      <td>19.22</td>\n",
       "      <td>19.22</td>\n",
       "      <td>19.22</td>\n",
       "      <td>0.0</td>\n",
       "      <td>1990-01</td>\n",
       "    </tr>\n",
       "    <tr>\n",
       "      <th>3</th>\n",
       "      <td>1990-01-05</td>\n",
       "      <td>20.11</td>\n",
       "      <td>20.11</td>\n",
       "      <td>20.11</td>\n",
       "      <td>20.11</td>\n",
       "      <td>0.0</td>\n",
       "      <td>1990-01</td>\n",
       "    </tr>\n",
       "    <tr>\n",
       "      <th>4</th>\n",
       "      <td>1990-01-08</td>\n",
       "      <td>20.26</td>\n",
       "      <td>20.26</td>\n",
       "      <td>20.26</td>\n",
       "      <td>20.26</td>\n",
       "      <td>0.0</td>\n",
       "      <td>1990-01</td>\n",
       "    </tr>\n",
       "  </tbody>\n",
       "</table>\n",
       "</div>"
      ],
      "text/plain": [
       "        DATE   OPEN   HIGH    LOW  CLOSE  VOLATILITY_RANGE YEAR_MONTH\n",
       "0 1990-01-02  17.24  17.24  17.24  17.24               0.0    1990-01\n",
       "1 1990-01-03  18.19  18.19  18.19  18.19               0.0    1990-01\n",
       "2 1990-01-04  19.22  19.22  19.22  19.22               0.0    1990-01\n",
       "3 1990-01-05  20.11  20.11  20.11  20.11               0.0    1990-01\n",
       "4 1990-01-08  20.26  20.26  20.26  20.26               0.0    1990-01"
      ]
     },
     "execution_count": 9,
     "metadata": {},
     "output_type": "execute_result"
    }
   ],
   "source": [
    "# Criando coluna YEAR_MONTH\n",
    "df['YEAR_MONTH'] = df['DATE'].dt.to_period('M')\n",
    "df.head()"
   ]
  },
  {
   "cell_type": "code",
   "execution_count": 10,
   "id": "9093f8c1-8216-42f2-8a29-c724747263b5",
   "metadata": {},
   "outputs": [
    {
     "name": "stdout",
     "output_type": "stream",
     "text": [
      "<class 'pandas.core.frame.DataFrame'>\n",
      "RangeIndex: 421 entries, 0 to 420\n",
      "Data columns (total 2 columns):\n",
      " #   Column      Non-Null Count  Dtype    \n",
      "---  ------      --------------  -----    \n",
      " 0   YEAR_MONTH  421 non-null    period[M]\n",
      " 1   CLOSE       421 non-null    float64  \n",
      "dtypes: float64(1), period[M](1)\n",
      "memory usage: 6.7 KB\n"
     ]
    }
   ],
   "source": [
    "serie_close_medio_por_mes = df.groupby('YEAR_MONTH')['CLOSE'].mean()\n",
    "df_close_medio_por_mes = serie_close_medio_por_mes.reset_index()\n",
    "\n",
    "# explicitando a ordenação\n",
    "df_close_medio_por_mes.sort_values(by='YEAR_MONTH', inplace=True)\n",
    "\n",
    "df_close_medio_por_mes.info()"
   ]
  },
  {
   "cell_type": "markdown",
   "id": "a4e0eabb-8f65-4a9b-8fdb-e8c298acceb0",
   "metadata": {},
   "source": [
    "#### 1.8 Crie um gráfico (plot) visual demostrando os dados."
   ]
  },
  {
   "cell_type": "code",
   "execution_count": 11,
   "id": "5679f96b-d3d0-4c17-803e-05c9c9289011",
   "metadata": {},
   "outputs": [
    {
     "data": {
      "image/png": "[encoded data removed]",
      "text/plain": [
       "<Figure size 1000x500 with 1 Axes>"
      ]
     },
     "metadata": {},
     "output_type": "display_data"
    }
   ],
   "source": [
    "# convertendo o tipo para ser utilizado no gráfico\n",
    "df_close_medio_por_mes['YEAR_MONTH'] = df_close_medio_por_mes['YEAR_MONTH'].astype(str)\n",
    "\n",
    "sns.set_style(\"darkgrid\")\n",
    "\n",
    "plt.figure(figsize=(10, 5))\n",
    "sns.lineplot(data=df_close_medio_por_mes, x='YEAR_MONTH', y='CLOSE', color='b')\n",
    "\n",
    "primeiro_YEAR_MONTH = df_close_medio_por_mes['YEAR_MONTH'].iloc[0]\n",
    "ultimo_YEAR_MONTH = df_close_medio_por_mes['YEAR_MONTH'].iloc[-1]\n",
    "\n",
    "plt.title('Média do CLOSE por Ano/Mês', fontsize=14, y=1.05)\n",
    "plt.suptitle(f\"de {primeiro_YEAR_MONTH} até {ultimo_YEAR_MONTH}\", fontsize=10, y=0.92)\n",
    "\n",
    "plt.xlabel('Ano/Mês', fontsize=12)\n",
    "plt.ylabel('Média do CLOSE', fontsize=12)\n",
    "\n",
    "# evitando sobreposição no xticks\n",
    "plt.gca().xaxis.set_major_locator(ticker.MaxNLocator(integer=True, prune='both'))\n",
    "\n",
    "plt.show()"
   ]
  },
  {
   "cell_type": "markdown",
   "id": "d01d3697-6d0e-41c4-9a49-138825c3d69f",
   "metadata": {},
   "source": [
    "#### 1.9 Exporte para formato .parquet incluindo no nome do arquivo a data e horário do dia de hoje. Formato prefixo_diamesano_horaminuto Exemplo: finance_251224_1235.parquet"
   ]
  },
  {
   "cell_type": "code",
   "execution_count": 12,
   "id": "150b6deb-ef24-4b18-8b68-827828cbbabb",
   "metadata": {},
   "outputs": [],
   "source": [
    "now_to_name = datetime.datetime.now().strftime('%y%m%d_%H%M')\n",
    "parquet_file_name = f\"finance_{now_to_name}.parquet\"\n",
    "df_close_medio_por_mes.to_parquet(parquet_file_name)"
   ]
  },
  {
   "cell_type": "code",
   "execution_count": null,
   "id": "8fcd1697-4652-4a1f-adab-5e0686a51abd",
   "metadata": {},
   "outputs": [],
   "source": []
  }
 ],
 "metadata": {
  "kernelspec": {
   "display_name": "Python 3 (ipykernel)",
   "language": "python",
   "name": "python3"
  },
  "language_info": {
   "codemirror_mode": {
    "name": "ipython",
    "version": 3
   },
   "file_extension": ".py",
   "mimetype": "text/x-python",
   "name": "python",
   "nbconvert_exporter": "python",
   "pygments_lexer": "ipython3",
   "version": "3.13.1"
  }
 },
 "nbformat": 4,
 "nbformat_minor": 5
}
